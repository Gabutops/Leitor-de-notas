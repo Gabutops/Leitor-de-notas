{
 "cells": [
  {
   "cell_type": "code",
   "execution_count": 36,
   "metadata": {},
   "outputs": [],
   "source": [
    "import re\n",
    "import PyPDF2"
   ]
  },
  {
   "cell_type": "code",
   "execution_count": 37,
   "metadata": {},
   "outputs": [
    {
     "name": "stdout",
     "output_type": "stream",
     "text": [
      "05/05/2023\n"
     ]
    }
   ],
   "source": [
    "from datetime import date\n",
    "today = date.today()\n",
    "date_str = today.strftime(\"%d/%m/%Y\")\n",
    "print(date_str)"
   ]
  },
  {
   "cell_type": "code",
   "execution_count": 73,
   "metadata": {},
   "outputs": [],
   "source": [
    "# função para extrair texto de uma página do PDF\n",
    "def extrair_texto_pagina(pagina):\n",
    "    texto = pagina.extract_text()\n",
    "    return texto\n"
   ]
  },
  {
   "cell_type": "code",
   "execution_count": 85,
   "metadata": {},
   "outputs": [],
   "source": [
    "leitor = PyPDF2.PdfReader('Pasta de pesquisa/20230430-1244_Danfe.pdf')\n",
    "total_paginas = len(leitor.pages)"
   ]
  },
  {
   "cell_type": "code",
   "execution_count": 87,
   "metadata": {},
   "outputs": [
    {
     "name": "stdout",
     "output_type": "stream",
     "text": [
      "000.000.902\n",
      "['0,00', '0,00', '0,00', '0,00', '38,90', '0,00', '0,00', '0,00', '0,00', '38,90', '0,00']\n",
      "[0.0, 0.0, 0.0, 0.0, 38.9, 0.0, 0.0, 0.0, 0.0, 38.9]\n"
     ]
    },
    {
     "data": {
      "text/plain": [
       "'NF-e\\nNº\\nSÉRIEDATA DE RECEBIMENTO IDENTIFICACAO E ASSINATURA DO RECEBEDORRECEBEMOS DE R T GIBIS HQS LTDA OS PRODUTOS CONSTANTES DA NOTA FISCAL INDICADA AO LADO\\nRua Jumana, 28 - Mooca, Sao Paulo, SP - CEP:\\n03121030 Fone: 0011981007336R T GIBIS HQS LTDADANFEDocumento Auxiliar da\\nNota Fiscal Eletrônica\\n0: Entrada\\n1: Saída\\nNº\\nSÉRIE:\\nFolhaCHAVE DE ACESSO\\nConsulta de autenticidade no portal nacional da NF-e\\nwww.nfe.fazenda.gov.br/portal ou no site da Sefaz Autorizadora1\\n3523 0448 1722 6800 0137 5500 2000 0009 0611 5129 5413\\n \\nNATUREZA DA OPERAÇÃO\\nVenda de mercadoria para consumidor finalPROTOCOLO DE AUTORIZAÇÃO DE USO\\nINSCRIÇÃO ESTADUAL INSC. ESTADUAL DO SUBST. TRIBUTÁRIO CNPJ\\n136968878110 48.172.268/0001-37002000.000.906\\n000.000.906\\n002\\n135230651538 30/04/2023 12:40:211d1\\nDATA DA EMISSÃO\\nDATA DA ENTRADA / SAÍDA\\nHORA DE SAÍDAC.N.P.J / C.P.F.\\nCEP\\nINSCRIÇÃO ESTADUAL UFBAIRRO/DISTRITO\\nFONE/FAX MUNICÍPIOENDEREÇONOME/RAZÃO SOCIAL\\nJanete C L S Franca 254.665.988-01DESTINATÁRIO / REMETENTE\\nRua Ferrucio Castagna, 82 - Referencia: se ninguem atender , Jardim Rubilene 04475450\\nSao Paulo 0000000000 SP30/04/2023\\n30/04/2023\\n12:40:19\\nFATURA/DUPLICATA\\nBASE DE CÁLCULO DO ICMS VALOR DO ICMS BASE DE CÁLCULO DO ICMS SUBSTITUIÇÃO VALOR DO ICMS SUBSTITUIÇÃO VALOR TOTAL DOS PRODUTOS\\nVALOR DO FRETE VALOR DO SEGURO DESCONTO OUTRAS DESPESAS ACESSÓRIAS VALOR DO IPI VALOR TOTAL DA NOTA0,00 0,00 0,00 0,00 155,60\\n0,00 0,00 0,00 0,00 155,60 0,00CÁLCULO DO IMPOSTO\\nTRANSPORTADOR/VOLUME\\nRAZÃO SOCIAL FRETE POR CONTA CODIGO ANTT PLACA DO VEÍCULO UF CNPJ/CPF\\nENDEREÇO\\nQUANTIDADE ESPÉCIE MARCA NUMERAÇÃO PESO BRUTO PESO LÍQUIDOMUNICÍPIO UF INSCRIÇÃO ESTADUALEbazar.com.br LTDA.\\nAv. das Nacoes Unidas 3003 Osasco SP03.007.331/0001-41\\n0,520 0,5202 - Terceiros\\n120079527111\\nDADOS DO PRODUTO / SERVIÇOS\\nCÓDIGODESCRIÇAO DOS PRODUTOS / SERVIÇOS NCM/SH CSOSN CFOP UNID. QTD.VLR UNIT. VALOR TOTALICMSIPIALÍQUOTAS B. CALC.\\nICMSVALOR\\nICMS IPIVALOR\\nPRODUTO\\nMLB3110086530 Kit 10 Gibis Turma Da Monica Novos Sem\\nRepeticao49019900 01025102 PC 4 38,90 155,60 0,00 0,00 0,00 0,000,00\\nINSCRIÇÃO MUNICIPAL VALOR TOTAL DOS SERVIÇOS BASE DE CÁLCULO DO ISSQN VALOR DO ISSQNCÁLCULO DO ISSQN\\nDADOS ADICIONAIS\\nValor aproximado dos tributos (IBPT) R$48,94.\\nEmitido por ME/EPP optante do Simples Nacional.RESERVADO AO FISCO'"
      ]
     },
     "execution_count": 87,
     "metadata": {},
     "output_type": "execute_result"
    }
   ],
   "source": [
    "for num_pagina in range(total_paginas):\n",
    "    pagina = leitor.pages[num_pagina]\n",
    "    texto_pagina = extrair_texto_pagina(pagina)\n",
    "    regex_numero = r\"\\d{3}\\.\\d{3}\\.\\d{3}\"\n",
    "    resultado_nota = re.search(regex_numero, texto_pagina)\n",
    "    numero_nota =resultado_nota.group(0)\n",
    "    if numero_nota == '000.000.902':\n",
    "        print(numero_nota)\n",
    "        # extrair a parte do texto que contém os valores\n",
    "        parte_valores = re.search(r'VALOR DO FRETE.*?CÁLCULO DO IMPOSTO', texto_pagina, re.DOTALL).group(0)\n",
    "\n",
    "        # extrair os valores em uma lista\n",
    "        valores = re.findall(r'\\d+,\\d+', parte_valores)\n",
    "\n",
    "        print(valores)  # saída: ['0,00', '0,00', '0,00', '0,00', '19,90', '0,00', '0,00', '0,00', '0,00', '19,90']\n",
    "\n",
    "        # converter os valores para float\n",
    "        valores = [float(valor.replace(',', '.')) for valor in valores]\n",
    "        valores.pop(-1)\n",
    "\n",
    "        print(valores)\n",
    "texto_pagina"
   ]
  },
  {
   "cell_type": "code",
   "execution_count": 71,
   "metadata": {},
   "outputs": [
    {
     "name": "stdout",
     "output_type": "stream",
     "text": [
      "[0.0, 0.0, 0.0, 0.0, 0.0, 99.9]\n"
     ]
    },
    {
     "data": {
      "text/plain": [
       "'Recebemos de R&T GIBIS & HQS LTDA, os produtos constantes da nota fiscal indicada ao lado: Data de emissão:03/05/2023,Valor\\nTotal: R$39,90, Destinatário: Viviane Cristina Dias R Pe Demerval Gomes, 367 - Apartamento 501 - Coracao Eucaristico - Belo\\nHorizonte/MG\\nDATA DE RECEBIMENTO IDENTIFICAÇÃO E ASSINATURA DO RECEBEDORNF-e\\nNº 000.006.854\\nSÉRIE: 1\\nDESTINATÁRIO/REMETENTE\\nNOME/RAZÃO SOCIAL CNPJ/CPF/IdEstrangeiro\\nENDEREÇO BAIRRO/DISTRITO CEP\\nMUNICÍPIO FONE/FAX UF INSCRIÇÃO ESTADUALViviane Cristina Dias 008.310.286-88\\nR Pe Demerval Gomes, 367 - Apartamento 501 Coracao Eucaristico 30535-470\\nBelo Horizonte MGDATA DE EMISSÃO\\nDATA DE SAÍDA/ENTRADA\\nHORA DE SAÍDA03/05/2023\\n03/05/2023\\n09:36:06\\nINFORMAÇÕES DO LOCAL DE ENTREGA\\nNOME/RAZÃO SOCIAL CNPJ/CPF INSCRIÇÃO ESTADUAL\\nENDEREÇO BAIRRO/DISTRITO CEP\\nMUNICÍPIO UF FONE/FAX 008.310.286-88 \\nR Pe Demerval Gomes, 367 - Apartamento 501 Coracao Eucaristico 30535-470\\nBelo Horizonte MG\\nFATURA/DUPLICATA\\nCÁLCULO DO IMPOSTO\\nBASE DE CÁLCULO DO ICMS VALOR DO ICMS BASE DE CÁLCULO DO ICMS SUBSTITUIÇÃO VALOR DO ICMS SUBSTITUIÇÃO\\nVALOR TOTAL DA NOTAVALOR TOTAL DOS PRODUTOS\\n0,00 0,00 0,00 0,00 39,90\\nVALOR DO FRETE VALOR DO SEGURO DESCONTO OUTRAS DESPESAS ACESSÓRIAS VALOR DO IPI VALOR TOTAL DA NOTA\\n0,00 0,00 0,00 0,00 0,00 39,90\\nTRANSPORTADOR/VOLUMES TRANSPORTADOS\\nRAZÃO SOCIAL FRETE POR CONTA CÓDIGO ANTT PLACA DO VEÍCULO UF CNPJ/CPF\\nENDEREÇO MUNICÍPIO UF INSCRIÇÃO ESTADUAL\\nQUANTIDADE ESPÉCIE MARCA NUMERAÇÃO PESO BRUTO PESO LÍQUIDO 0-Rem (CIF) \\n \\nCÁLCULO DO ISSQN\\nINSCRIÇÃO MUNICIPAL\\nVALOR TOTAL DOS SERVIÇOS BASE DE CÁLCULO DOS SERVIÇOS VALOR DO ISSQN\\nDADOS ADICIONAIS\\nINFORMAÇÕES COMPLEMENTARES RESERVADO AO FISCO\\nPercentual estimado de tributos: 6.00%, pedido: 230503QP38QJ01, DOCUMENTO EMITIDO\\nPOR ME OU EPP OPTANTE PELO SIMPLES NACIONAL, NAO GERA DIREITO A CREDITO\\nFISCAL DE IPIIDENTIFICAÇÃO DO EMITENTE\\nCHAVE DE ACESSODANFE\\nDocumento Auxiliar da\\nNOTA FISCAL ELETRÔNICA\\n0 - ENTRADA\\n1 - SAÍDAR&T GIBIS & HQS LTDA\\nR Jumana, 28 - Sala 01\\nMooca - Sao Paulo - SP\\nCEP: 03121-0301\\nNº 000.006.854\\nSÉRIE: 13523 0548 1722 6800 0137 5500 1000 0068 5410 0122 3367\\nConsulta de autenticidade no portal nacional da NF-e\\nwww.nfe.fazenda.gov.br/portal\\nou no site da Sefaz Autorizadora\\nPROTOCOLO DE AUTORIZAÇÃO DE USO\\n135230666239393 03/05/2023 09:36:47NATUREZA DA OPERAÇÃO\\nINSCRIÇÃO ESTADUAL INSC.EST.DO SUBST.TRIBUTÁRIO CNPJVenda\\n136.968.878.110 48.172.268/0001-37\\nDADOS DO PRODUTO/SERVIÇO\\nCÓDIGO\\nPRODUTODESCRIÇÃO DO PRODUTO/SERVIÇO NCM/SH CSOSN CFOP UNID. QUANT.VALOR\\nUNITÁRIOVALOR\\nTOTALBC\\nICMSVALOR\\nICMSALIQ.\\nICMS\\nMenor Preco - Kit 10 Gibis Turma Da Monica Novos Sem 213039514797 49019900 01026108UNID 139,9039,900,000,000\\nRepeticao - Cascao/Cebolinha/Chico\\nBento/Magali/Monica/TurmaFOLHA: 1/1'"
      ]
     },
     "execution_count": 71,
     "metadata": {},
     "output_type": "execute_result"
    }
   ],
   "source": [
    "for num_pagina in range(total_paginas):\n",
    "    pagina = leitor.pages[num_pagina]\n",
    "    texto_pagina = extrair_texto_pagina(pagina)\n",
    "    regex_numero = r\"\\d{3}\\.\\d{3}\\.\\d{3}\"\n",
    "    resultado_nota = re.search(regex_numero, texto_pagina)\n",
    "    numero_nota =resultado_nota.group(0)\n",
    "    if numero_nota == '000.006.864':\n",
    "        \n",
    "        # Extrai a parte desejada do texto\n",
    "        parte_desejada = re.search(r\"VALOR DO FRETE.*VALOR TOTAL DA NOTA.*\\n([\\d, ]+)\", texto_pagina).group(1)\n",
    "\n",
    "        # Cria o regex para retornar os valores\n",
    "        valores_regex = re.findall(r\"[\\d,]+\", parte_desejada)\n",
    "        valores = [float(valor.replace(',', '.')) for valor in valores_regex]\n",
    "        print(valores)\n",
    "texto_pagina"
   ]
  },
  {
   "cell_type": "code",
   "execution_count": 39,
   "metadata": {},
   "outputs": [],
   "source": [
    "import pandas as pd\n",
    "BUG = []\n",
    "def add_sheet(nr_nota,vl_nota):\n",
    "    try:\n",
    "        dados = [nr_nota,vl_nota]\n",
    "        headers = ['numero-nota', 'valor-nota']\n",
    "        df = pd.DataFrame(columns=headers)\n",
    "        nova_linha = pd.DataFrame([dados], columns=df.columns)\n",
    "        df = pd.concat([df, nova_linha], ignore_index=True)\n",
    "    except Exception as bug:\n",
    "        print(f\"algo de errado (erro relatado no relatorio):\\n{bug}\")\n",
    "        BUG.append(bug)\n",
    "        return bug\n",
    "\n",
    "            \n",
    "\n",
    "    \n"
   ]
  },
  {
   "cell_type": "code",
   "execution_count": 40,
   "metadata": {},
   "outputs": [],
   "source": [
    "def save_csv(df):\n",
    "    df.to_csv('data.csv', index=False, encoding='utf-8-sig',sep=\";\")"
   ]
  },
  {
   "cell_type": "code",
   "execution_count": 54,
   "metadata": {},
   "outputs": [],
   "source": [
    "def open_pdf(file):\n",
    "    BUGS = []\n",
    "    leitor = PyPDF2.PdfReader(file)\n",
    "    total_paginas = len(leitor.pages)\n",
    "    # para cada página, extrair o texto e encontrar o valor total\n",
    "    for num_pagina in range(total_paginas):\n",
    "        pagina = leitor.pages[num_pagina]\n",
    "        texto_pagina = extrair_texto_pagina(pagina)\n",
    "        \n",
    "        regex_numero = r\"\\d{3}\\.\\d{3}\\.\\d{3}\"\n",
    "        resultado_nota = re.search(regex_numero, texto_pagina)\n",
    "        numero_nota =resultado_nota.group(0)\n",
    "        regex_valor = r'Total: R\\$\\d+,\\d{2}'\n",
    "        resultado = re.search(regex_valor, texto_pagina)\n",
    "        if resultado:\n",
    "            valor_total = resultado.group()\n",
    "            regex_valor_monetario = r\"\\d+,\\d{2}\"\n",
    "            resultado_valor_monetario = re.search(regex_valor_monetario, valor_total)\n",
    "            if resultado_valor_monetario:\n",
    "                valor_monetario = resultado_valor_monetario.group(0)\n",
    "                if valor_monetario == 0:\n",
    "                    valor_monetario = resultado_valor_monetario.group(1)\n",
    "                add_sheet(numero_nota,valor_monetario)\n",
    "            else:\n",
    "                BUGS.append(\"Não foi possível encontrar o valor monetário.\")\n",
    "        else:\n",
    "            parte_valores = re.search(r'VALOR DO FRETE.*?CÁLCULO DO IMPOSTO', texto_pagina, re.DOTALL).group(0)\n",
    "\n",
    "            try:\n",
    "                # extrair os valores em uma lista\n",
    "                valores = re.findall(r'\\d+,\\d+', parte_valores)\n",
    "\n",
    "\n",
    "                # converter os valores para float\n",
    "                valores = [float(valor.replace(',', '.')) for valor in valores]\n",
    "                if valores[-1] == 0:\n",
    "                    valores.pop(-1)\n",
    "            except:\n",
    "                pass\n",
    "            else:\n",
    "                BUGS.append(\"Não foi possível encontrar o padrão.\")\n",
    "            print(valores[-1])\n",
    "        \n"
   ]
  },
  {
   "cell_type": "code",
   "execution_count": 56,
   "metadata": {},
   "outputs": [
    {
     "ename": "AttributeError",
     "evalue": "'NoneType' object has no attribute 'group'",
     "output_type": "error",
     "traceback": [
      "\u001b[1;31m---------------------------------------------------------------------------\u001b[0m",
      "\u001b[1;31mAttributeError\u001b[0m                            Traceback (most recent call last)",
      "Cell \u001b[1;32mIn[56], line 1\u001b[0m\n\u001b[1;32m----> 1\u001b[0m open_pdf(\u001b[39m'\u001b[39;49m\u001b[39mPasta de pesquisa/255e5892-65d4-4cb6-b425-15fb671753a0.pdf\u001b[39;49m\u001b[39m'\u001b[39;49m)\n",
      "Cell \u001b[1;32mIn[54], line 27\u001b[0m, in \u001b[0;36mopen_pdf\u001b[1;34m(file)\u001b[0m\n\u001b[0;32m     25\u001b[0m         BUGS\u001b[39m.\u001b[39mappend(\u001b[39m\"\u001b[39m\u001b[39mNão foi possível encontrar o valor monetário.\u001b[39m\u001b[39m\"\u001b[39m)\n\u001b[0;32m     26\u001b[0m \u001b[39melse\u001b[39;00m:\n\u001b[1;32m---> 27\u001b[0m     parte_valores \u001b[39m=\u001b[39m re\u001b[39m.\u001b[39;49msearch(\u001b[39mr\u001b[39;49m\u001b[39m'\u001b[39;49m\u001b[39mVALOR DO FRETE.*?CÁLCULO DO IMPOSTO\u001b[39;49m\u001b[39m'\u001b[39;49m, texto_pagina, re\u001b[39m.\u001b[39;49mDOTALL)\u001b[39m.\u001b[39;49mgroup(\u001b[39m0\u001b[39m)\n\u001b[0;32m     29\u001b[0m     \u001b[39m# extrair os valores em uma lista\u001b[39;00m\n\u001b[0;32m     30\u001b[0m     valores \u001b[39m=\u001b[39m re\u001b[39m.\u001b[39mfindall(\u001b[39mr\u001b[39m\u001b[39m'\u001b[39m\u001b[39m\\\u001b[39m\u001b[39md+,\u001b[39m\u001b[39m\\\u001b[39m\u001b[39md+\u001b[39m\u001b[39m'\u001b[39m, parte_valores)\n",
      "\u001b[1;31mAttributeError\u001b[0m: 'NoneType' object has no attribute 'group'"
     ]
    }
   ],
   "source": [
    "open_pdf('Pasta de pesquisa/255e5892-65d4-4cb6-b425-15fb671753a0.pdf')"
   ]
  },
  {
   "cell_type": "code",
   "execution_count": 33,
   "metadata": {},
   "outputs": [
    {
     "name": "stdout",
     "output_type": "stream",
     "text": [
      "['0,00', '0,00', '0,00', '0,00', '19,90', '0,00', '0,00', '0,00', '0,00', '19,90', '0,00']\n",
      "<class 'list'>\n"
     ]
    }
   ],
   "source": [
    "with open('Pasta de pesquisa/20230430-1244_Danfe.pdf', 'rb') as f:\n",
    "    leitor = PyPDF2.PdfReader(f)\n",
    "    total_paginas = len(leitor.pages)\n",
    "    pagina = leitor.pages[1]\n",
    "    texto = extrair_texto_pagina(pagina)\n",
    "texto\n",
    "# extrair a parte do texto que contém os valores\n",
    "parte_valores = re.search(r'VALOR DO FRETE.*?CÁLCULO DO IMPOSTO', texto, re.DOTALL).group(0)\n",
    "\n",
    "# extrair os valores em uma lista\n",
    "valores = re.findall(r'\\d+,\\d+', parte_valores)\n",
    "\n",
    "print(valores)  # saída: ['0,00', '0,00', '0,00', '0,00', '19,90', '0,00', '0,00', '0,00', '0,00', '19,90']\n",
    "\n",
    "# converter os valores para float\n",
    "valores = [float(valor.replace(',', '.')) for valor in valores]\n",
    "if valores[-1] == 0:\n",
    "    valores.pop(-1)\n",
    "    \n",
    "\n",
    "print(valores)  # saída: [0.0, 0.0, 0.0, 0.0, 19.9, 0.0, 0.0, 0.0, 0.0, 19.9]"
   ]
  },
  {
   "cell_type": "code",
   "execution_count": 17,
   "metadata": {},
   "outputs": [
    {
     "name": "stdout",
     "output_type": "stream",
     "text": [
      "Não foi possível encontrar o valor monetário.\n",
      "Não foi possível encontrar o valor monetário.\n",
      "Não foi possível encontrar o valor monetário.\n",
      "Não foi possível encontrar o valor monetário.\n",
      "Não foi possível encontrar o valor monetário.\n",
      "Não foi possível encontrar o valor monetário.\n",
      "Não foi possível encontrar o valor monetário.\n",
      "Não foi possível encontrar o valor monetário.\n",
      "Não foi possível encontrar o valor monetário.\n"
     ]
    }
   ],
   "source": [
    "# abrir o arquivo PDF\n",
    "with open('Pasta de pesquisa/20230430-1244_Danfe.pdf', 'rb') as f:\n",
    "    leitor = PyPDF2.PdfReader(f)\n",
    "    total_paginas = len(leitor.pages)\n",
    "\n",
    "    # para cada página, extrair o texto e encontrar o valor total\n",
    "    for num_pagina in range(total_paginas):\n",
    "        pagina = leitor.pages[num_pagina]\n",
    "        texto_pagina = extrair_texto_pagina(pagina)\n",
    "        print(texto_pagina)\n",
    "        padrao = r\"\\d{2},\\d{2}\\s\\d{2},\\d{2}\\s\\d{2},\\d{2}\\s\\d{2},\\d{2}\\s\\d{2},\\d{2}\\s(\\d{2},\\d{2})\"\n",
    "        match = re.search(padrao, texto_pagina)\n",
    "        if match:\n",
    "            valor_total = match.group(0)\n",
    "            regex_valor_monetario = r\"\\d+,\\d{2}\"\n",
    "            resultado_valor_monetario = re.search(regex_valor_monetario, valor_total)\n",
    "            if resultado_valor_monetario:\n",
    "                valor_monetario = resultado_valor_monetario.group()\n",
    "                print(valor_monetario)\n",
    "        else:\n",
    "            print(\"Não foi possível encontrar o valor monetário.\")"
   ]
  },
  {
   "cell_type": "code",
   "execution_count": null,
   "metadata": {},
   "outputs": [],
   "source": []
  },
  {
   "cell_type": "code",
   "execution_count": null,
   "metadata": {},
   "outputs": [],
   "source": []
  }
 ],
 "metadata": {
  "kernelspec": {
   "display_name": "venv",
   "language": "python",
   "name": "python3"
  },
  "language_info": {
   "codemirror_mode": {
    "name": "ipython",
    "version": 3
   },
   "file_extension": ".py",
   "mimetype": "text/x-python",
   "name": "python",
   "nbconvert_exporter": "python",
   "pygments_lexer": "ipython3",
   "version": "3.10.7"
  },
  "orig_nbformat": 4
 },
 "nbformat": 4,
 "nbformat_minor": 2
}
