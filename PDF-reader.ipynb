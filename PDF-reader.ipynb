{
 "cells": [
  {
   "cell_type": "code",
   "execution_count": 6,
   "metadata": {},
   "outputs": [],
   "source": [
    "import re\n",
    "import PyPDF2"
   ]
  },
  {
   "cell_type": "code",
   "execution_count": 7,
   "metadata": {},
   "outputs": [
    {
     "name": "stdout",
     "output_type": "stream",
     "text": [
      "05/05/2023\n"
     ]
    }
   ],
   "source": [
    "from datetime import date\n",
    "today = date.today()\n",
    "date_str = today.strftime(\"%d/%m/%Y\")\n",
    "print(date_str)"
   ]
  },
  {
   "cell_type": "code",
   "execution_count": 9,
   "metadata": {},
   "outputs": [],
   "source": [
    "# função para extrair texto de uma página do PDF\n",
    "def extrair_texto_pagina(pagina):\n",
    "    texto = pagina.extract_text()\n",
    "    return texto\n"
   ]
  },
  {
   "cell_type": "code",
   "execution_count": 10,
   "metadata": {},
   "outputs": [
    {
     "ename": "FileNotFoundError",
     "evalue": "[Errno 2] No such file or directory: 'Pasta de arquivos/exemplo-shopee.pdf'",
     "output_type": "error",
     "traceback": [
      "\u001b[1;31m---------------------------------------------------------------------------\u001b[0m",
      "\u001b[1;31mFileNotFoundError\u001b[0m                         Traceback (most recent call last)",
      "Cell \u001b[1;32mIn[10], line 1\u001b[0m\n\u001b[1;32m----> 1\u001b[0m leitor \u001b[39m=\u001b[39m PyPDF2\u001b[39m.\u001b[39;49mPdfReader(\u001b[39m\"\u001b[39;49m\u001b[39mPasta de arquivos/exemplo-shopee.pdf\u001b[39;49m\u001b[39m\"\u001b[39;49m)\n\u001b[0;32m      2\u001b[0m total_paginas \u001b[39m=\u001b[39m \u001b[39mlen\u001b[39m(leitor\u001b[39m.\u001b[39mpages)\n\u001b[0;32m      3\u001b[0m texto_pagina \u001b[39m=\u001b[39m extrair_texto_pagina(leitor\u001b[39m.\u001b[39mpages[\u001b[39m1\u001b[39m])\n",
      "File \u001b[1;32mc:\\Users\\Gabuto\\Leitor de notas\\venv\\lib\\site-packages\\PyPDF2\\_reader.py:317\u001b[0m, in \u001b[0;36mPdfReader.__init__\u001b[1;34m(self, stream, strict, password)\u001b[0m\n\u001b[0;32m    311\u001b[0m     logger_warning(\n\u001b[0;32m    312\u001b[0m         \u001b[39m\"\u001b[39m\u001b[39mPdfReader stream/file object is not in binary mode. \u001b[39m\u001b[39m\"\u001b[39m\n\u001b[0;32m    313\u001b[0m         \u001b[39m\"\u001b[39m\u001b[39mIt may not be read correctly.\u001b[39m\u001b[39m\"\u001b[39m,\n\u001b[0;32m    314\u001b[0m         \u001b[39m__name__\u001b[39m,\n\u001b[0;32m    315\u001b[0m     )\n\u001b[0;32m    316\u001b[0m \u001b[39mif\u001b[39;00m \u001b[39misinstance\u001b[39m(stream, (\u001b[39mstr\u001b[39m, Path)):\n\u001b[1;32m--> 317\u001b[0m     \u001b[39mwith\u001b[39;00m \u001b[39mopen\u001b[39;49m(stream, \u001b[39m\"\u001b[39;49m\u001b[39mrb\u001b[39;49m\u001b[39m\"\u001b[39;49m) \u001b[39mas\u001b[39;00m fh:\n\u001b[0;32m    318\u001b[0m         stream \u001b[39m=\u001b[39m BytesIO(fh\u001b[39m.\u001b[39mread())\n\u001b[0;32m    319\u001b[0m \u001b[39mself\u001b[39m\u001b[39m.\u001b[39mread(stream)\n",
      "\u001b[1;31mFileNotFoundError\u001b[0m: [Errno 2] No such file or directory: 'Pasta de arquivos/exemplo-shopee.pdf'"
     ]
    }
   ],
   "source": [
    "leitor = PyPDF2.PdfReader(\"Pasta de arquivos/exemplo-shopee.pdf\")\n",
    "total_paginas = len(leitor.pages)\n",
    "texto_pagina = extrair_texto_pagina(leitor.pages[1])\n",
    "regex = r\"Nº\\s\\d{3}\\.\\d{3}\\.\\d{3}\"\n",
    "\n",
    "resultado = re.search(regex, texto_pagina)\n",
    "resultado.group().split()[-1]"
   ]
  },
  {
   "cell_type": "code",
   "execution_count": 11,
   "metadata": {},
   "outputs": [],
   "source": [
    "import pandas as pd\n",
    "BUG = []\n",
    "def add_sheet(nr_nota,vl_nota):\n",
    "    try:\n",
    "        dados = [nr_nota,vl_nota]\n",
    "        headers = ['numero-nota', 'valor-nota']\n",
    "        df = pd.DataFrame(columns=headers)\n",
    "        nova_linha = pd.DataFrame([dados], columns=df.columns)\n",
    "        df = pd.concat([df, nova_linha], ignore_index=True)\n",
    "    except Exception as bug:\n",
    "        print(f\"algo de errado (erro relatado no relatorio):\\n{bug}\")\n",
    "        BUG.append(bug)\n",
    "        return bug\n",
    "\n",
    "            \n",
    "\n",
    "    \n"
   ]
  },
  {
   "cell_type": "code",
   "execution_count": 12,
   "metadata": {},
   "outputs": [],
   "source": [
    "def save_csv(df):\n",
    "    df.to_csv('data.csv', index=False, encoding='utf-8-sig',sep=\";\")"
   ]
  },
  {
   "cell_type": "code",
   "execution_count": 16,
   "metadata": {},
   "outputs": [],
   "source": [
    "def open_pdf(file):\n",
    "    BUGS = []\n",
    "    leitor = PyPDF2.PdfReader(file)\n",
    "    total_paginas = len(leitor.pages)\n",
    "    # para cada página, extrair o texto e encontrar o valor total\n",
    "    for num_pagina in range(total_paginas):\n",
    "        pagina = leitor.pages[num_pagina]\n",
    "        texto_pagina = extrair_texto_pagina(pagina)\n",
    "        print(texto_pagina)\n",
    "        regex_numero = r\"Nº\\s\\d{3}\\.\\d{3}\\.\\d{3}\"\n",
    "        resultado_nota = re.search(regex_numero, texto_pagina)\n",
    "        numero_nota =resultado_nota.group(0).split()[-1]\n",
    "        regex_valor = r'Total: R\\$\\d+,\\d{2}'\n",
    "        resultado = re.search(regex_valor, texto_pagina)\n",
    "        if resultado:\n",
    "            valor_total = resultado.group()\n",
    "            regex_valor_monetario = r\"\\d+,\\d{2}\"\n",
    "            resultado_valor_monetario = re.search(regex_valor_monetario, valor_total)\n",
    "            if resultado_valor_monetario:\n",
    "                valor_monetario = resultado_valor_monetario.group(0)\n",
    "                add_sheet(numero_nota,valor_monetario)\n",
    "            else:\n",
    "                BUGS.append(\"Não foi possível encontrar o valor monetário.\")\n",
    "        else:\n",
    "            BUGS.append(\"Não foi possível encontrar o padrão.\")\n",
    "        return {\n",
    "            \"numero-nota\":str(numero_nota),\n",
    "            \"valor-nota\": str(valor_monetario),\n",
    "            \"bugs\": BUGS, \n",
    "        }\n"
   ]
  },
  {
   "cell_type": "code",
   "execution_count": 18,
   "metadata": {},
   "outputs": [
    {
     "name": "stdout",
     "output_type": "stream",
     "text": [
      "NF-e\n",
      "Nº\n",
      "SÉRIEDATA DE RECEBIMENTO IDENTIFICACAO E ASSINATURA DO RECEBEDORRECEBEMOS DE R T GIBIS HQS LTDA OS PRODUTOS CONSTANTES DA NOTA FISCAL INDICADA AO LADO\n",
      "Rua Jumana, 28 - Mooca, Sao Paulo, SP - CEP:\n",
      "03121030 Fone: 0011981007336R T GIBIS HQS LTDADANFEDocumento Auxiliar da\n",
      "Nota Fiscal Eletrônica\n",
      "0: Entrada\n",
      "1: Saída\n",
      "Nº\n",
      "SÉRIE:\n",
      "FolhaCHAVE DE ACESSO\n",
      "Consulta de autenticidade no portal nacional da NF-e\n",
      "www.nfe.fazenda.gov.br/portal ou no site da Sefaz Autorizadora1\n",
      "3523 0548 1722 6800 0137 5500 2000 0009 5410 4661 8403\n",
      " \n",
      "NATUREZA DA OPERAÇÃO\n",
      "Venda de mercadoria para consumidor finalPROTOCOLO DE AUTORIZAÇÃO DE USO\n",
      "INSCRIÇÃO ESTADUAL INSC. ESTADUAL DO SUBST. TRIBUTÁRIO CNPJ\n",
      "136968878110 48.172.268/0001-37002000.000.954\n",
      "000.000.954\n",
      "002\n",
      "135230669608 03/05/2023 16:01:351d1\n",
      "DATA DA EMISSÃO\n",
      "DATA DA ENTRADA / SAÍDA\n",
      "HORA DE SAÍDAC.N.P.J / C.P.F.\n",
      "CEP\n",
      "INSCRIÇÃO ESTADUAL UFBAIRRO/DISTRITO\n",
      "FONE/FAX MUNICÍPIOENDEREÇONOME/RAZÃO SOCIAL\n",
      "Ellana Amorim 000.952.961-66DESTINATÁRIO / REMETENTE\n",
      "Area Especial 4 Modulo G, 506 - o G Bloco A - Ed. Olympique Guara II 71070674\n",
      "Brasilia 6133521168 DF03/05/2023\n",
      "03/05/2023\n",
      "16:01:33\n",
      "FATURA/DUPLICATA\n",
      "BASE DE CÁLCULO DO ICMS VALOR DO ICMS BASE DE CÁLCULO DO ICMS SUBSTITUIÇÃO VALOR DO ICMS SUBSTITUIÇÃO VALOR TOTAL DOS PRODUTOS\n",
      "VALOR DO FRETE VALOR DO SEGURO DESCONTO OUTRAS DESPESAS ACESSÓRIAS VALOR DO IPI VALOR TOTAL DA NOTA0,00 0,00 0,00 0,00 89,90\n",
      "0,00 0,00 0,00 0,00 89,90 0,00CÁLCULO DO IMPOSTO\n",
      "TRANSPORTADOR/VOLUME\n",
      "RAZÃO SOCIAL FRETE POR CONTA CODIGO ANTT PLACA DO VEÍCULO UF CNPJ/CPF\n",
      "ENDEREÇO\n",
      "QUANTIDADE ESPÉCIE MARCA NUMERAÇÃO PESO BRUTO PESO LÍQUIDOMUNICÍPIO UF INSCRIÇÃO ESTADUALEbazar.com.br LTDA.\n",
      "Av. das Nacoes Unidas 3003 Osasco SP03.007.331/0001-41\n",
      "1,730 1,7302 - Terceiros\n",
      "120079527111\n",
      "DADOS DO PRODUTO / SERVIÇOS\n",
      "CÓDIGODESCRIÇAO DOS PRODUTOS / SERVIÇOS NCM/SH CSOSN CFOP UNID. QTD.VLR UNIT. VALOR TOTALICMSIPIALÍQUOTAS B. CALC.\n",
      "ICMSVALOR\n",
      "ICMS IPIVALOR\n",
      "PRODUTO\n",
      "Sweet Tooth Vol.\n",
      "2 (de 3):Sweet Tooth Vol. 2 (de 3): Edicao De Luxo 49019900 01026108 PC 1 89,90 89,90 0,00 0,00 0,00 0,000,00\n",
      "INSCRIÇÃO MUNICIPAL VALOR TOTAL DOS SERVIÇOS BASE DE CÁLCULO DO ISSQN VALOR DO ISSQNCÁLCULO DO ISSQN\n",
      "DADOS ADICIONAIS\n",
      "Valor aproximado dos tributos (IBPT) R$28,27.\n",
      "Emitido por ME/EPP optante do Simples Nacional.RESERVADO AO FISCO\n"
     ]
    },
    {
     "ename": "AttributeError",
     "evalue": "'NoneType' object has no attribute 'group'",
     "output_type": "error",
     "traceback": [
      "\u001b[1;31m---------------------------------------------------------------------------\u001b[0m",
      "\u001b[1;31mAttributeError\u001b[0m                            Traceback (most recent call last)",
      "Cell \u001b[1;32mIn[18], line 1\u001b[0m\n\u001b[1;32m----> 1\u001b[0m open_pdf(\u001b[39m'\u001b[39;49m\u001b[39mPasta de pesquisa\u001b[39;49m\u001b[39m\\\u001b[39;49m\u001b[39mexemplo-ml.pdf\u001b[39;49m\u001b[39m'\u001b[39;49m)\n",
      "Cell \u001b[1;32mIn[16], line 12\u001b[0m, in \u001b[0;36mopen_pdf\u001b[1;34m(file)\u001b[0m\n\u001b[0;32m     10\u001b[0m regex_numero \u001b[39m=\u001b[39m \u001b[39mr\u001b[39m\u001b[39m\"\u001b[39m\u001b[39mNº\u001b[39m\u001b[39m\\\u001b[39m\u001b[39ms\u001b[39m\u001b[39m\\\u001b[39m\u001b[39md\u001b[39m\u001b[39m{3}\u001b[39;00m\u001b[39m\\\u001b[39m\u001b[39m.\u001b[39m\u001b[39m\\\u001b[39m\u001b[39md\u001b[39m\u001b[39m{3}\u001b[39;00m\u001b[39m\\\u001b[39m\u001b[39m.\u001b[39m\u001b[39m\\\u001b[39m\u001b[39md\u001b[39m\u001b[39m{3}\u001b[39;00m\u001b[39m\"\u001b[39m\n\u001b[0;32m     11\u001b[0m resultado_nota \u001b[39m=\u001b[39m re\u001b[39m.\u001b[39msearch(regex_numero, texto_pagina)\n\u001b[1;32m---> 12\u001b[0m numero_nota \u001b[39m=\u001b[39mresultado_nota\u001b[39m.\u001b[39;49mgroup(\u001b[39m0\u001b[39m)\u001b[39m.\u001b[39msplit()[\u001b[39m-\u001b[39m\u001b[39m1\u001b[39m]\n\u001b[0;32m     13\u001b[0m regex_valor \u001b[39m=\u001b[39m \u001b[39mr\u001b[39m\u001b[39m'\u001b[39m\u001b[39mTotal: R\u001b[39m\u001b[39m\\\u001b[39m\u001b[39m$\u001b[39m\u001b[39m\\\u001b[39m\u001b[39md+,\u001b[39m\u001b[39m\\\u001b[39m\u001b[39md\u001b[39m\u001b[39m{2}\u001b[39;00m\u001b[39m'\u001b[39m\n\u001b[0;32m     14\u001b[0m resultado \u001b[39m=\u001b[39m re\u001b[39m.\u001b[39msearch(regex_valor, texto_pagina)\n",
      "\u001b[1;31mAttributeError\u001b[0m: 'NoneType' object has no attribute 'group'"
     ]
    }
   ],
   "source": [
    "open_pdf('Pasta de pesquisa\\exemplo-ml.pdf')"
   ]
  },
  {
   "cell_type": "code",
   "execution_count": 13,
   "metadata": {},
   "outputs": [
    {
     "name": "stdout",
     "output_type": "stream",
     "text": [
      "<PyPDF2._reader.PdfReader object at 0x0000014A41C58DC0>\n"
     ]
    }
   ],
   "source": [
    "# abrir o arquivo PDF\n",
    "with open('exemplo-shopee.pdf', 'rb') as f:\n",
    "    leitor = PyPDF2.PdfReader(f)\n",
    "    total_paginas = len(leitor.pages)\n",
    "\n",
    "    # para cada página, extrair o texto e encontrar o valor total\n",
    "    for num_pagina in range(total_paginas):\n",
    "        pagina = leitor.pages[num_pagina]\n",
    "        texto_pagina = extrair_texto_pagina(pagina)\n",
    "        regex = r'Total: R\\$\\d+,\\d{2}'\n",
    "        resultado = re.search(regex, texto_pagina)\n",
    "        if resultado:\n",
    "            valor_total = resultado.group()\n",
    "            regex_valor_monetario = r\"\\d+,\\d{2}\"\n",
    "            resultado_valor_monetario = re.search(regex_valor_monetario, valor_total)\n",
    "            if resultado_valor_monetario:\n",
    "                valor_monetario = resultado_valor_monetario.group()\n",
    "                print(valor_monetario)\n",
    "            else:\n",
    "                print(\"Não foi possível encontrar o valor monetário.\")\n",
    "        else:\n",
    "            print(\"Não foi possível encontrar o padrão.\")"
   ]
  },
  {
   "cell_type": "code",
   "execution_count": 4,
   "metadata": {},
   "outputs": [
    {
     "ename": "NameError",
     "evalue": "name 'device' is not defined",
     "output_type": "error",
     "traceback": [
      "\u001b[1;31m---------------------------------------------------------------------------\u001b[0m",
      "\u001b[1;31mNameError\u001b[0m                                 Traceback (most recent call last)",
      "Cell \u001b[1;32mIn[4], line 28\u001b[0m\n\u001b[0;32m     25\u001b[0m                         \u001b[39mbreak\u001b[39;00m\n\u001b[0;32m     27\u001b[0m \u001b[39m# Chamando a função\u001b[39;00m\n\u001b[1;32m---> 28\u001b[0m encontrar_valor_nota(\u001b[39m'\u001b[39;49m\u001b[39mexemplo-shopee.pdf\u001b[39;49m\u001b[39m'\u001b[39;49m)\n",
      "Cell \u001b[1;32mIn[4], line 15\u001b[0m, in \u001b[0;36mencontrar_valor_nota\u001b[1;34m(pdf_file)\u001b[0m\n\u001b[0;32m     12\u001b[0m laparams \u001b[39m=\u001b[39m LAParams()\n\u001b[0;32m     14\u001b[0m \u001b[39mfor\u001b[39;00m page \u001b[39min\u001b[39;00m PDFPage\u001b[39m.\u001b[39mcreate_pages(document):\n\u001b[1;32m---> 15\u001b[0m     interpreter \u001b[39m=\u001b[39m PDFPageInterpreter(rsrcmgr, device)\n\u001b[0;32m     16\u001b[0m     interpreter\u001b[39m.\u001b[39mprocess_page(page)\n\u001b[0;32m     18\u001b[0m     \u001b[39mfor\u001b[39;00m element \u001b[39min\u001b[39;00m page\u001b[39m.\u001b[39mlayout:\n",
      "\u001b[1;31mNameError\u001b[0m: name 'device' is not defined"
     ]
    }
   ],
   "source": []
  },
  {
   "cell_type": "code",
   "execution_count": null,
   "metadata": {},
   "outputs": [],
   "source": []
  }
 ],
 "metadata": {
  "kernelspec": {
   "display_name": "venv",
   "language": "python",
   "name": "python3"
  },
  "language_info": {
   "codemirror_mode": {
    "name": "ipython",
    "version": 3
   },
   "file_extension": ".py",
   "mimetype": "text/x-python",
   "name": "python",
   "nbconvert_exporter": "python",
   "pygments_lexer": "ipython3",
   "version": "3.10.7"
  },
  "orig_nbformat": 4
 },
 "nbformat": 4,
 "nbformat_minor": 2
}
